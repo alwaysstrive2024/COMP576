{
 "cells": [
  {
   "metadata": {},
   "cell_type": "markdown",
   "source": [
    "# Task01:\n",
    "```\n",
    "╰─ conda info\n",
    "\n",
    "     active environment : base\n",
    "    active env location : /opt/anaconda3\n",
    "            shell level : 1\n",
    "       user config file : /Users/fuyugu/.condarc\n",
    " populated config files : /Users/fuyugu/.condarc\n",
    "          conda version : 25.5.0\n",
    "    conda-build version : 25.1.2\n",
    "         python version : 3.12.2.final.0\n",
    "                 solver : libmamba (default)\n",
    "       virtual packages : __archspec=1=m1\n",
    "                          __conda=25.5.0=0\n",
    "                          __osx=15.6.1=0\n",
    "                          __unix=0=0\n",
    "       base environment : /opt/anaconda3  (writable)\n",
    "      conda av data dir : /opt/anaconda3/etc/conda\n",
    "  conda av metadata url : None\n",
    "           channel URLs : https://repo.anaconda.com/pkgs/main/osx-arm64\n",
    "                          https://repo.anaconda.com/pkgs/main/noarch\n",
    "                          https://repo.anaconda.com/pkgs/r/osx-arm64\n",
    "                          https://repo.anaconda.com/pkgs/r/noarch\n",
    "          package cache : /opt/anaconda3/pkgs\n",
    "                          /Users/fuyugu/.conda/pkgs\n",
    "       envs directories : /opt/anaconda3/envs\n",
    "                          /Users/fuyugu/.conda/envs\n",
    "               platform : osx-arm64\n",
    "             user-agent : conda/25.5.0 requests/2.32.3 CPython/3.12.2 Darwin/24.6.0 OSX/15.6.1 solver/libmamba conda-libmamba-solver/25.1.1 libmambapy/2.0.5 aau/0.5.0 c/. s/. e/.\n",
    "                UID:GID : 501:20\n",
    "             netrc file : None\n",
    "           offline mode : False\n",
    "```"
   ],
   "id": "8545a529aacbf206"
  },
  {
   "metadata": {},
   "cell_type": "markdown",
   "source": "# Task2:Run all of Python commands in the table ”Linear Algebra Equivalents”",
   "id": "4e32e594226f5cec"
  },
  {
   "cell_type": "code",
   "id": "initial_id",
   "metadata": {
    "collapsed": true,
    "ExecuteTime": {
     "end_time": "2025-09-16T04:51:18.474210Z",
     "start_time": "2025-09-16T04:51:18.221937Z"
    }
   },
   "source": [
    "import numpy as np\n",
    "import scipy.linalg"
   ],
   "outputs": [],
   "execution_count": 1
  },
  {
   "metadata": {
    "ExecuteTime": {
     "end_time": "2025-09-16T04:51:18.504150Z",
     "start_time": "2025-09-16T04:51:18.500933Z"
    }
   },
   "cell_type": "code",
   "source": [
    "a = np.array([[11., 12., 13.], [14., 15., 16.]])\n",
    "b = np.array([[21, 22, 23], [24, 25, 26]])\n",
    "c = np.array([[31, 32, 33], [34, 35, 36]])\n",
    "d = np.array([[41, 42, 43], [44, 45, 46]])"
   ],
   "id": "2eeb239c2c76863a",
   "outputs": [],
   "execution_count": 2
  },
  {
   "metadata": {
    "ExecuteTime": {
     "end_time": "2025-09-16T04:51:18.590165Z",
     "start_time": "2025-09-16T04:51:18.587144Z"
    }
   },
   "cell_type": "code",
   "source": "a.ndim",
   "id": "560b00207adad8ce",
   "outputs": [
    {
     "data": {
      "text/plain": [
       "2"
      ]
     },
     "execution_count": 3,
     "metadata": {},
     "output_type": "execute_result"
    }
   ],
   "execution_count": 3
  },
  {
   "metadata": {
    "ExecuteTime": {
     "end_time": "2025-09-16T04:51:18.619797Z",
     "start_time": "2025-09-16T04:51:18.616969Z"
    }
   },
   "cell_type": "code",
   "source": "a.size",
   "id": "973066aa27a43603",
   "outputs": [
    {
     "data": {
      "text/plain": [
       "6"
      ]
     },
     "execution_count": 4,
     "metadata": {},
     "output_type": "execute_result"
    }
   ],
   "execution_count": 4
  },
  {
   "metadata": {
    "ExecuteTime": {
     "end_time": "2025-09-16T04:51:18.669238Z",
     "start_time": "2025-09-16T04:51:18.667040Z"
    }
   },
   "cell_type": "code",
   "source": "a.shape",
   "id": "bfb9b56ef1f3afa8",
   "outputs": [
    {
     "data": {
      "text/plain": [
       "(2, 3)"
      ]
     },
     "execution_count": 5,
     "metadata": {},
     "output_type": "execute_result"
    }
   ],
   "execution_count": 5
  },
  {
   "metadata": {
    "ExecuteTime": {
     "end_time": "2025-09-16T04:51:18.719776Z",
     "start_time": "2025-09-16T04:51:18.716836Z"
    }
   },
   "cell_type": "code",
   "source": [
    "e = np.block([[a, b], [c, d]])\n",
    "e"
   ],
   "id": "c2b0d0a3a8c38552",
   "outputs": [
    {
     "data": {
      "text/plain": [
       "array([[11., 12., 13., 21., 22., 23.],\n",
       "       [14., 15., 16., 24., 25., 26.],\n",
       "       [31., 32., 33., 41., 42., 43.],\n",
       "       [34., 35., 36., 44., 45., 46.]])"
      ]
     },
     "execution_count": 6,
     "metadata": {},
     "output_type": "execute_result"
    }
   ],
   "execution_count": 6
  },
  {
   "metadata": {
    "ExecuteTime": {
     "end_time": "2025-09-16T04:51:19.065486Z",
     "start_time": "2025-09-16T04:51:19.062896Z"
    }
   },
   "cell_type": "code",
   "source": "a[-1]",
   "id": "6c222bdaac39ed06",
   "outputs": [
    {
     "data": {
      "text/plain": [
       "array([14., 15., 16.])"
      ]
     },
     "execution_count": 7,
     "metadata": {},
     "output_type": "execute_result"
    }
   ],
   "execution_count": 7
  },
  {
   "metadata": {
    "ExecuteTime": {
     "end_time": "2025-09-16T04:51:19.108012Z",
     "start_time": "2025-09-16T04:51:19.105759Z"
    }
   },
   "cell_type": "code",
   "source": "a[1, 2]",
   "id": "6c7285c36c70bd5c",
   "outputs": [
    {
     "data": {
      "text/plain": [
       "np.float64(16.0)"
      ]
     },
     "execution_count": 8,
     "metadata": {},
     "output_type": "execute_result"
    }
   ],
   "execution_count": 8
  },
  {
   "metadata": {
    "ExecuteTime": {
     "end_time": "2025-09-16T04:51:19.192891Z",
     "start_time": "2025-09-16T04:51:19.190467Z"
    }
   },
   "cell_type": "code",
   "source": "a[1, :]",
   "id": "2f3a19f689745510",
   "outputs": [
    {
     "data": {
      "text/plain": [
       "array([14., 15., 16.])"
      ]
     },
     "execution_count": 9,
     "metadata": {},
     "output_type": "execute_result"
    }
   ],
   "execution_count": 9
  },
  {
   "metadata": {
    "ExecuteTime": {
     "end_time": "2025-09-16T04:51:19.270158Z",
     "start_time": "2025-09-16T04:51:19.267526Z"
    }
   },
   "cell_type": "code",
   "source": "a[1:2]",
   "id": "6fe56cf2754085e4",
   "outputs": [
    {
     "data": {
      "text/plain": [
       "array([[14., 15., 16.]])"
      ]
     },
     "execution_count": 10,
     "metadata": {},
     "output_type": "execute_result"
    }
   ],
   "execution_count": 10
  },
  {
   "metadata": {
    "ExecuteTime": {
     "end_time": "2025-09-16T04:51:19.366206Z",
     "start_time": "2025-09-16T04:51:19.363414Z"
    }
   },
   "cell_type": "code",
   "source": "a[1:, 1:2]",
   "id": "d7cfee94645ebaf3",
   "outputs": [
    {
     "data": {
      "text/plain": [
       "array([[15.]])"
      ]
     },
     "execution_count": 11,
     "metadata": {},
     "output_type": "execute_result"
    }
   ],
   "execution_count": 11
  },
  {
   "metadata": {
    "ExecuteTime": {
     "end_time": "2025-09-16T04:51:19.429721Z",
     "start_time": "2025-09-16T04:51:19.427371Z"
    }
   },
   "cell_type": "code",
   "source": [
    "ad = np.arange(20).reshape(5, 4)\n",
    "ad"
   ],
   "id": "83916b7eec06ef6b",
   "outputs": [
    {
     "data": {
      "text/plain": [
       "array([[ 0,  1,  2,  3],\n",
       "       [ 4,  5,  6,  7],\n",
       "       [ 8,  9, 10, 11],\n",
       "       [12, 13, 14, 15],\n",
       "       [16, 17, 18, 19]])"
      ]
     },
     "execution_count": 12,
     "metadata": {},
     "output_type": "execute_result"
    }
   ],
   "execution_count": 12
  },
  {
   "metadata": {
    "ExecuteTime": {
     "end_time": "2025-09-16T04:51:19.554700Z",
     "start_time": "2025-09-16T04:51:19.551879Z"
    }
   },
   "cell_type": "code",
   "source": [
    "ad[np.ix_([1, 3, 4], [0, 2])]\n",
    "# Row indices: take rows 1, 3, and 4,\tColumn indices: take columns 0 and 2"
   ],
   "id": "ac8b99ecd19fdeb3",
   "outputs": [
    {
     "data": {
      "text/plain": [
       "array([[ 4,  6],\n",
       "       [12, 14],\n",
       "       [16, 18]])"
      ]
     },
     "execution_count": 13,
     "metadata": {},
     "output_type": "execute_result"
    }
   ],
   "execution_count": 13
  },
  {
   "metadata": {
    "ExecuteTime": {
     "end_time": "2025-09-16T04:51:19.714027Z",
     "start_time": "2025-09-16T04:51:19.711273Z"
    }
   },
   "cell_type": "code",
   "source": [
    "e = np.arange(100).reshape(25, -1)\n",
    "e"
   ],
   "id": "539b1031ad68225f",
   "outputs": [
    {
     "data": {
      "text/plain": [
       "array([[ 0,  1,  2,  3],\n",
       "       [ 4,  5,  6,  7],\n",
       "       [ 8,  9, 10, 11],\n",
       "       [12, 13, 14, 15],\n",
       "       [16, 17, 18, 19],\n",
       "       [20, 21, 22, 23],\n",
       "       [24, 25, 26, 27],\n",
       "       [28, 29, 30, 31],\n",
       "       [32, 33, 34, 35],\n",
       "       [36, 37, 38, 39],\n",
       "       [40, 41, 42, 43],\n",
       "       [44, 45, 46, 47],\n",
       "       [48, 49, 50, 51],\n",
       "       [52, 53, 54, 55],\n",
       "       [56, 57, 58, 59],\n",
       "       [60, 61, 62, 63],\n",
       "       [64, 65, 66, 67],\n",
       "       [68, 69, 70, 71],\n",
       "       [72, 73, 74, 75],\n",
       "       [76, 77, 78, 79],\n",
       "       [80, 81, 82, 83],\n",
       "       [84, 85, 86, 87],\n",
       "       [88, 89, 90, 91],\n",
       "       [92, 93, 94, 95],\n",
       "       [96, 97, 98, 99]])"
      ]
     },
     "execution_count": 14,
     "metadata": {},
     "output_type": "execute_result"
    }
   ],
   "execution_count": 14
  },
  {
   "metadata": {
    "ExecuteTime": {
     "end_time": "2025-09-16T04:51:19.813916Z",
     "start_time": "2025-09-16T04:51:19.810807Z"
    }
   },
   "cell_type": "code",
   "source": [
    "f = e[2:21:2, :]\n",
    "f"
   ],
   "id": "df414826cdd622ea",
   "outputs": [
    {
     "data": {
      "text/plain": [
       "array([[ 8,  9, 10, 11],\n",
       "       [16, 17, 18, 19],\n",
       "       [24, 25, 26, 27],\n",
       "       [32, 33, 34, 35],\n",
       "       [40, 41, 42, 43],\n",
       "       [48, 49, 50, 51],\n",
       "       [56, 57, 58, 59],\n",
       "       [64, 65, 66, 67],\n",
       "       [72, 73, 74, 75],\n",
       "       [80, 81, 82, 83]])"
      ]
     },
     "execution_count": 15,
     "metadata": {},
     "output_type": "execute_result"
    }
   ],
   "execution_count": 15
  },
  {
   "metadata": {
    "ExecuteTime": {
     "end_time": "2025-09-16T04:51:19.981796Z",
     "start_time": "2025-09-16T04:51:19.978502Z"
    }
   },
   "cell_type": "code",
   "source": "e[::-1, :]",
   "id": "d3e57c44abac1fc6",
   "outputs": [
    {
     "data": {
      "text/plain": [
       "array([[96, 97, 98, 99],\n",
       "       [92, 93, 94, 95],\n",
       "       [88, 89, 90, 91],\n",
       "       [84, 85, 86, 87],\n",
       "       [80, 81, 82, 83],\n",
       "       [76, 77, 78, 79],\n",
       "       [72, 73, 74, 75],\n",
       "       [68, 69, 70, 71],\n",
       "       [64, 65, 66, 67],\n",
       "       [60, 61, 62, 63],\n",
       "       [56, 57, 58, 59],\n",
       "       [52, 53, 54, 55],\n",
       "       [48, 49, 50, 51],\n",
       "       [44, 45, 46, 47],\n",
       "       [40, 41, 42, 43],\n",
       "       [36, 37, 38, 39],\n",
       "       [32, 33, 34, 35],\n",
       "       [28, 29, 30, 31],\n",
       "       [24, 25, 26, 27],\n",
       "       [20, 21, 22, 23],\n",
       "       [16, 17, 18, 19],\n",
       "       [12, 13, 14, 15],\n",
       "       [ 8,  9, 10, 11],\n",
       "       [ 4,  5,  6,  7],\n",
       "       [ 0,  1,  2,  3]])"
      ]
     },
     "execution_count": 16,
     "metadata": {},
     "output_type": "execute_result"
    }
   ],
   "execution_count": 16
  },
  {
   "metadata": {
    "ExecuteTime": {
     "end_time": "2025-09-16T04:51:20.091837Z",
     "start_time": "2025-09-16T04:51:20.089415Z"
    }
   },
   "cell_type": "code",
   "source": "e[np.r_[:len(a), 0]]",
   "id": "37c7142aca8bc0c5",
   "outputs": [
    {
     "data": {
      "text/plain": [
       "array([[0, 1, 2, 3],\n",
       "       [4, 5, 6, 7],\n",
       "       [0, 1, 2, 3]])"
      ]
     },
     "execution_count": 17,
     "metadata": {},
     "output_type": "execute_result"
    }
   ],
   "execution_count": 17
  },
  {
   "metadata": {
    "ExecuteTime": {
     "end_time": "2025-09-16T04:51:20.230364Z",
     "start_time": "2025-09-16T04:51:20.227924Z"
    }
   },
   "cell_type": "code",
   "source": "e.T",
   "id": "c7025546af1b89f7",
   "outputs": [
    {
     "data": {
      "text/plain": [
       "array([[ 0,  4,  8, 12, 16, 20, 24, 28, 32, 36, 40, 44, 48, 52, 56, 60,\n",
       "        64, 68, 72, 76, 80, 84, 88, 92, 96],\n",
       "       [ 1,  5,  9, 13, 17, 21, 25, 29, 33, 37, 41, 45, 49, 53, 57, 61,\n",
       "        65, 69, 73, 77, 81, 85, 89, 93, 97],\n",
       "       [ 2,  6, 10, 14, 18, 22, 26, 30, 34, 38, 42, 46, 50, 54, 58, 62,\n",
       "        66, 70, 74, 78, 82, 86, 90, 94, 98],\n",
       "       [ 3,  7, 11, 15, 19, 23, 27, 31, 35, 39, 43, 47, 51, 55, 59, 63,\n",
       "        67, 71, 75, 79, 83, 87, 91, 95, 99]])"
      ]
     },
     "execution_count": 18,
     "metadata": {},
     "output_type": "execute_result"
    }
   ],
   "execution_count": 18
  },
  {
   "metadata": {
    "ExecuteTime": {
     "end_time": "2025-09-16T04:51:20.370738Z",
     "start_time": "2025-09-16T04:51:20.368067Z"
    }
   },
   "cell_type": "code",
   "source": "e.conj().T",
   "id": "5d6f61605405a3b1",
   "outputs": [
    {
     "data": {
      "text/plain": [
       "array([[ 0,  4,  8, 12, 16, 20, 24, 28, 32, 36, 40, 44, 48, 52, 56, 60,\n",
       "        64, 68, 72, 76, 80, 84, 88, 92, 96],\n",
       "       [ 1,  5,  9, 13, 17, 21, 25, 29, 33, 37, 41, 45, 49, 53, 57, 61,\n",
       "        65, 69, 73, 77, 81, 85, 89, 93, 97],\n",
       "       [ 2,  6, 10, 14, 18, 22, 26, 30, 34, 38, 42, 46, 50, 54, 58, 62,\n",
       "        66, 70, 74, 78, 82, 86, 90, 94, 98],\n",
       "       [ 3,  7, 11, 15, 19, 23, 27, 31, 35, 39, 43, 47, 51, 55, 59, 63,\n",
       "        67, 71, 75, 79, 83, 87, 91, 95, 99]])"
      ]
     },
     "execution_count": 19,
     "metadata": {},
     "output_type": "execute_result"
    }
   ],
   "execution_count": 19
  },
  {
   "metadata": {
    "ExecuteTime": {
     "end_time": "2025-09-16T04:51:20.511616Z",
     "start_time": "2025-09-16T04:51:20.508806Z"
    }
   },
   "cell_type": "code",
   "source": [
    "ab = np.arange(20).reshape(5, 4)\n",
    "ba = np.arange(20).reshape(4, 5)\n",
    "aba = np.arange(20).reshape(4, 5)\n",
    "ab @ ba"
   ],
   "id": "174f0b29fad9805",
   "outputs": [
    {
     "data": {
      "text/plain": [
       "array([[ 70,  76,  82,  88,  94],\n",
       "       [190, 212, 234, 256, 278],\n",
       "       [310, 348, 386, 424, 462],\n",
       "       [430, 484, 538, 592, 646],\n",
       "       [550, 620, 690, 760, 830]])"
      ]
     },
     "execution_count": 20,
     "metadata": {},
     "output_type": "execute_result"
    }
   ],
   "execution_count": 20
  },
  {
   "metadata": {
    "ExecuteTime": {
     "end_time": "2025-09-16T04:51:20.671871Z",
     "start_time": "2025-09-16T04:51:20.669579Z"
    }
   },
   "cell_type": "code",
   "source": "ba * aba",
   "id": "3aed0b074f67854d",
   "outputs": [
    {
     "data": {
      "text/plain": [
       "array([[  0,   1,   4,   9,  16],\n",
       "       [ 25,  36,  49,  64,  81],\n",
       "       [100, 121, 144, 169, 196],\n",
       "       [225, 256, 289, 324, 361]])"
      ]
     },
     "execution_count": 21,
     "metadata": {},
     "output_type": "execute_result"
    }
   ],
   "execution_count": 21
  },
  {
   "metadata": {
    "ExecuteTime": {
     "end_time": "2025-09-16T04:51:20.818080Z",
     "start_time": "2025-09-16T04:51:20.815449Z"
    }
   },
   "cell_type": "code",
   "source": "ba / aba",
   "id": "ee7a292c50b8652e",
   "outputs": [
    {
     "name": "stderr",
     "output_type": "stream",
     "text": [
      "/var/folders/z6/8hw5tw4s1r90140zc3s6kg580000gn/T/ipykernel_57329/4208299645.py:1: RuntimeWarning: invalid value encountered in divide\n",
      "  ba / aba\n"
     ]
    },
    {
     "data": {
      "text/plain": [
       "array([[nan,  1.,  1.,  1.,  1.],\n",
       "       [ 1.,  1.,  1.,  1.,  1.],\n",
       "       [ 1.,  1.,  1.,  1.,  1.],\n",
       "       [ 1.,  1.,  1.,  1.,  1.]])"
      ]
     },
     "execution_count": 22,
     "metadata": {},
     "output_type": "execute_result"
    }
   ],
   "execution_count": 22
  },
  {
   "metadata": {
    "ExecuteTime": {
     "end_time": "2025-09-16T04:51:21.006323Z",
     "start_time": "2025-09-16T04:51:21.003917Z"
    }
   },
   "cell_type": "code",
   "source": "ba **3",
   "id": "a4cc46d3ca511d46",
   "outputs": [
    {
     "data": {
      "text/plain": [
       "array([[   0,    1,    8,   27,   64],\n",
       "       [ 125,  216,  343,  512,  729],\n",
       "       [1000, 1331, 1728, 2197, 2744],\n",
       "       [3375, 4096, 4913, 5832, 6859]])"
      ]
     },
     "execution_count": 23,
     "metadata": {},
     "output_type": "execute_result"
    }
   ],
   "execution_count": 23
  },
  {
   "metadata": {
    "ExecuteTime": {
     "end_time": "2025-09-16T04:51:21.149981Z",
     "start_time": "2025-09-16T04:51:21.147581Z"
    }
   },
   "cell_type": "code",
   "source": "ba > 5",
   "id": "1b86164f9fca810d",
   "outputs": [
    {
     "data": {
      "text/plain": [
       "array([[False, False, False, False, False],\n",
       "       [False,  True,  True,  True,  True],\n",
       "       [ True,  True,  True,  True,  True],\n",
       "       [ True,  True,  True,  True,  True]])"
      ]
     },
     "execution_count": 24,
     "metadata": {},
     "output_type": "execute_result"
    }
   ],
   "execution_count": 24
  },
  {
   "metadata": {
    "ExecuteTime": {
     "end_time": "2025-09-16T04:51:21.266869Z",
     "start_time": "2025-09-16T04:51:21.264471Z"
    }
   },
   "cell_type": "code",
   "source": "np.nonzero ( ba > 10 )",
   "id": "cecf4c412980ea0f",
   "outputs": [
    {
     "data": {
      "text/plain": [
       "(array([2, 2, 2, 2, 3, 3, 3, 3, 3]), array([1, 2, 3, 4, 0, 1, 2, 3, 4]))"
      ]
     },
     "execution_count": 25,
     "metadata": {},
     "output_type": "execute_result"
    }
   ],
   "execution_count": 25
  },
  {
   "metadata": {
    "ExecuteTime": {
     "end_time": "2025-09-16T04:51:21.425870Z",
     "start_time": "2025-09-16T04:51:21.423300Z"
    }
   },
   "cell_type": "code",
   "source": [
    "a = np.arange(20).reshape(4,5)\n",
    "v = np.array([0.2, 0.8, 0.4, 0.9, 0.7])\n",
    "a[ :,np.nonzero( v > 0.5 )[ 0 ] ]"
   ],
   "id": "3abbb41396b595a7",
   "outputs": [
    {
     "data": {
      "text/plain": [
       "array([[ 1,  3,  4],\n",
       "       [ 6,  8,  9],\n",
       "       [11, 13, 14],\n",
       "       [16, 18, 19]])"
      ]
     },
     "execution_count": 26,
     "metadata": {},
     "output_type": "execute_result"
    }
   ],
   "execution_count": 26
  },
  {
   "metadata": {
    "ExecuteTime": {
     "end_time": "2025-09-16T04:51:21.586344Z",
     "start_time": "2025-09-16T04:51:21.583767Z"
    }
   },
   "cell_type": "code",
   "source": "a[:, v.T > 0.5]",
   "id": "18fb52b0facbfdf8",
   "outputs": [
    {
     "data": {
      "text/plain": [
       "array([[ 1,  3,  4],\n",
       "       [ 6,  8,  9],\n",
       "       [11, 13, 14],\n",
       "       [16, 18, 19]])"
      ]
     },
     "execution_count": 27,
     "metadata": {},
     "output_type": "execute_result"
    }
   ],
   "execution_count": 27
  },
  {
   "metadata": {
    "ExecuteTime": {
     "end_time": "2025-09-16T04:51:21.685450Z",
     "start_time": "2025-09-16T04:51:21.682853Z"
    }
   },
   "cell_type": "code",
   "source": [
    "a[a < 5]=0\n",
    "a"
   ],
   "id": "ac74ba4ce00f7218",
   "outputs": [
    {
     "data": {
      "text/plain": [
       "array([[ 0,  0,  0,  0,  0],\n",
       "       [ 5,  6,  7,  8,  9],\n",
       "       [10, 11, 12, 13, 14],\n",
       "       [15, 16, 17, 18, 19]])"
      ]
     },
     "execution_count": 28,
     "metadata": {},
     "output_type": "execute_result"
    }
   ],
   "execution_count": 28
  },
  {
   "metadata": {
    "ExecuteTime": {
     "end_time": "2025-09-16T04:51:21.774724Z",
     "start_time": "2025-09-16T04:51:21.772166Z"
    }
   },
   "cell_type": "code",
   "source": [
    "a*(a>5)\n",
    "a"
   ],
   "id": "68f417e184e5e728",
   "outputs": [
    {
     "data": {
      "text/plain": [
       "array([[ 0,  0,  0,  0,  0],\n",
       "       [ 5,  6,  7,  8,  9],\n",
       "       [10, 11, 12, 13, 14],\n",
       "       [15, 16, 17, 18, 19]])"
      ]
     },
     "execution_count": 29,
     "metadata": {},
     "output_type": "execute_result"
    }
   ],
   "execution_count": 29
  },
  {
   "metadata": {
    "ExecuteTime": {
     "end_time": "2025-09-16T04:51:21.919718Z",
     "start_time": "2025-09-16T04:51:21.917382Z"
    }
   },
   "cell_type": "code",
   "source": [
    "a[:] =3\n",
    "a"
   ],
   "id": "3ef30ece0fdfe7fe",
   "outputs": [
    {
     "data": {
      "text/plain": [
       "array([[3, 3, 3, 3, 3],\n",
       "       [3, 3, 3, 3, 3],\n",
       "       [3, 3, 3, 3, 3],\n",
       "       [3, 3, 3, 3, 3]])"
      ]
     },
     "execution_count": 30,
     "metadata": {},
     "output_type": "execute_result"
    }
   ],
   "execution_count": 30
  },
  {
   "metadata": {
    "ExecuteTime": {
     "end_time": "2025-09-16T04:51:22.019791Z",
     "start_time": "2025-09-16T04:51:22.016824Z"
    }
   },
   "cell_type": "code",
   "source": [
    "y = a.copy()\n",
    "y"
   ],
   "id": "44866a8b2485a058",
   "outputs": [
    {
     "data": {
      "text/plain": [
       "array([[3, 3, 3, 3, 3],\n",
       "       [3, 3, 3, 3, 3],\n",
       "       [3, 3, 3, 3, 3],\n",
       "       [3, 3, 3, 3, 3]])"
      ]
     },
     "execution_count": 31,
     "metadata": {},
     "output_type": "execute_result"
    }
   ],
   "execution_count": 31
  },
  {
   "metadata": {
    "ExecuteTime": {
     "end_time": "2025-09-16T04:51:22.150908Z",
     "start_time": "2025-09-16T04:51:22.148474Z"
    }
   },
   "cell_type": "code",
   "source": [
    "y= a[1, :].copy()\n",
    "y"
   ],
   "id": "1861e531ebd0294",
   "outputs": [
    {
     "data": {
      "text/plain": [
       "array([3, 3, 3, 3, 3])"
      ]
     },
     "execution_count": 32,
     "metadata": {},
     "output_type": "execute_result"
    }
   ],
   "execution_count": 32
  },
  {
   "metadata": {
    "ExecuteTime": {
     "end_time": "2025-09-16T04:51:22.286753Z",
     "start_time": "2025-09-16T04:51:22.284326Z"
    }
   },
   "cell_type": "code",
   "source": [
    "y  = a.flatten()\n",
    "y"
   ],
   "id": "b8701dd3ea8120a8",
   "outputs": [
    {
     "data": {
      "text/plain": [
       "array([3, 3, 3, 3, 3, 3, 3, 3, 3, 3, 3, 3, 3, 3, 3, 3, 3, 3, 3, 3])"
      ]
     },
     "execution_count": 33,
     "metadata": {},
     "output_type": "execute_result"
    }
   ],
   "execution_count": 33
  },
  {
   "metadata": {
    "ExecuteTime": {
     "end_time": "2025-09-16T04:51:22.393425Z",
     "start_time": "2025-09-16T04:51:22.391066Z"
    }
   },
   "cell_type": "code",
   "source": [
    "y = np.arange(1., 11.)\n",
    "y"
   ],
   "id": "397cf924c72b7e31",
   "outputs": [
    {
     "data": {
      "text/plain": [
       "array([ 1.,  2.,  3.,  4.,  5.,  6.,  7.,  8.,  9., 10.])"
      ]
     },
     "execution_count": 34,
     "metadata": {},
     "output_type": "execute_result"
    }
   ],
   "execution_count": 34
  },
  {
   "metadata": {
    "ExecuteTime": {
     "end_time": "2025-09-16T04:51:22.453704Z",
     "start_time": "2025-09-16T04:51:22.450881Z"
    }
   },
   "cell_type": "code",
   "source": "np.r_[1.:11.]",
   "id": "590a37cdd6ed270",
   "outputs": [
    {
     "data": {
      "text/plain": [
       "array([ 1.,  2.,  3.,  4.,  5.,  6.,  7.,  8.,  9., 10.])"
      ]
     },
     "execution_count": 35,
     "metadata": {},
     "output_type": "execute_result"
    }
   ],
   "execution_count": 35
  },
  {
   "metadata": {
    "ExecuteTime": {
     "end_time": "2025-09-16T04:51:22.520303Z",
     "start_time": "2025-09-16T04:51:22.517733Z"
    }
   },
   "cell_type": "code",
   "source": "np.r_[1:10:10j]",
   "id": "2f629a09c64c5b6a",
   "outputs": [
    {
     "data": {
      "text/plain": [
       "array([ 1.,  2.,  3.,  4.,  5.,  6.,  7.,  8.,  9., 10.])"
      ]
     },
     "execution_count": 36,
     "metadata": {},
     "output_type": "execute_result"
    }
   ],
   "execution_count": 36
  },
  {
   "metadata": {
    "ExecuteTime": {
     "end_time": "2025-09-16T04:51:22.567948Z",
     "start_time": "2025-09-16T04:51:22.565528Z"
    }
   },
   "cell_type": "code",
   "source": "np.arange(10.) ",
   "id": "c85ef51f1dd9e5b1",
   "outputs": [
    {
     "data": {
      "text/plain": [
       "array([0., 1., 2., 3., 4., 5., 6., 7., 8., 9.])"
      ]
     },
     "execution_count": 37,
     "metadata": {},
     "output_type": "execute_result"
    }
   ],
   "execution_count": 37
  },
  {
   "metadata": {
    "ExecuteTime": {
     "end_time": "2025-09-16T04:51:22.607291Z",
     "start_time": "2025-09-16T04:51:22.604494Z"
    }
   },
   "cell_type": "code",
   "source": "np.r_[:10.]",
   "id": "92956f9fd1632105",
   "outputs": [
    {
     "data": {
      "text/plain": [
       "array([0., 1., 2., 3., 4., 5., 6., 7., 8., 9.])"
      ]
     },
     "execution_count": 38,
     "metadata": {},
     "output_type": "execute_result"
    }
   ],
   "execution_count": 38
  },
  {
   "metadata": {
    "ExecuteTime": {
     "end_time": "2025-09-16T04:51:22.684934Z",
     "start_time": "2025-09-16T04:51:22.682238Z"
    }
   },
   "cell_type": "code",
   "source": " np.r_[:9:10j]",
   "id": "bb20c8dfb3598007",
   "outputs": [
    {
     "data": {
      "text/plain": [
       "array([0., 1., 2., 3., 4., 5., 6., 7., 8., 9.])"
      ]
     },
     "execution_count": 39,
     "metadata": {},
     "output_type": "execute_result"
    }
   ],
   "execution_count": 39
  },
  {
   "metadata": {
    "ExecuteTime": {
     "end_time": "2025-09-16T04:51:22.737789Z",
     "start_time": "2025-09-16T04:51:22.735064Z"
    }
   },
   "cell_type": "code",
   "source": "np.arange(1.,11.)[:, np.newaxis]",
   "id": "2ca8421ec857722d",
   "outputs": [
    {
     "data": {
      "text/plain": [
       "array([[ 1.],\n",
       "       [ 2.],\n",
       "       [ 3.],\n",
       "       [ 4.],\n",
       "       [ 5.],\n",
       "       [ 6.],\n",
       "       [ 7.],\n",
       "       [ 8.],\n",
       "       [ 9.],\n",
       "       [10.]])"
      ]
     },
     "execution_count": 40,
     "metadata": {},
     "output_type": "execute_result"
    }
   ],
   "execution_count": 40
  },
  {
   "metadata": {
    "ExecuteTime": {
     "end_time": "2025-09-16T04:51:22.784509Z",
     "start_time": "2025-09-16T04:51:22.782045Z"
    }
   },
   "cell_type": "code",
   "source": "np.zeros((3, 4))",
   "id": "bbec08dc92277aa0",
   "outputs": [
    {
     "data": {
      "text/plain": [
       "array([[0., 0., 0., 0.],\n",
       "       [0., 0., 0., 0.],\n",
       "       [0., 0., 0., 0.]])"
      ]
     },
     "execution_count": 41,
     "metadata": {},
     "output_type": "execute_result"
    }
   ],
   "execution_count": 41
  },
  {
   "metadata": {
    "ExecuteTime": {
     "end_time": "2025-09-16T04:51:22.869459Z",
     "start_time": "2025-09-16T04:51:22.866955Z"
    }
   },
   "cell_type": "code",
   "source": "np.zeros((3, 4, 5))",
   "id": "bcd4735662d5ea75",
   "outputs": [
    {
     "data": {
      "text/plain": [
       "array([[[0., 0., 0., 0., 0.],\n",
       "        [0., 0., 0., 0., 0.],\n",
       "        [0., 0., 0., 0., 0.],\n",
       "        [0., 0., 0., 0., 0.]],\n",
       "\n",
       "       [[0., 0., 0., 0., 0.],\n",
       "        [0., 0., 0., 0., 0.],\n",
       "        [0., 0., 0., 0., 0.],\n",
       "        [0., 0., 0., 0., 0.]],\n",
       "\n",
       "       [[0., 0., 0., 0., 0.],\n",
       "        [0., 0., 0., 0., 0.],\n",
       "        [0., 0., 0., 0., 0.],\n",
       "        [0., 0., 0., 0., 0.]]])"
      ]
     },
     "execution_count": 42,
     "metadata": {},
     "output_type": "execute_result"
    }
   ],
   "execution_count": 42
  },
  {
   "metadata": {
    "ExecuteTime": {
     "end_time": "2025-09-16T04:51:22.947431Z",
     "start_time": "2025-09-16T04:51:22.945216Z"
    }
   },
   "cell_type": "code",
   "source": "np.ones((3, 4))",
   "id": "de91b50b5fae97b9",
   "outputs": [
    {
     "data": {
      "text/plain": [
       "array([[1., 1., 1., 1.],\n",
       "       [1., 1., 1., 1.],\n",
       "       [1., 1., 1., 1.]])"
      ]
     },
     "execution_count": 43,
     "metadata": {},
     "output_type": "execute_result"
    }
   ],
   "execution_count": 43
  },
  {
   "metadata": {
    "ExecuteTime": {
     "end_time": "2025-09-16T04:51:23.050755Z",
     "start_time": "2025-09-16T04:51:23.048189Z"
    }
   },
   "cell_type": "code",
   "source": "np.eye(3)",
   "id": "a944e32d549cec2b",
   "outputs": [
    {
     "data": {
      "text/plain": [
       "array([[1., 0., 0.],\n",
       "       [0., 1., 0.],\n",
       "       [0., 0., 1.]])"
      ]
     },
     "execution_count": 44,
     "metadata": {},
     "output_type": "execute_result"
    }
   ],
   "execution_count": 44
  },
  {
   "metadata": {
    "ExecuteTime": {
     "end_time": "2025-09-16T04:51:23.137172Z",
     "start_time": "2025-09-16T04:51:23.134871Z"
    }
   },
   "cell_type": "code",
   "source": "np.diag(a)",
   "id": "4d0c51da6f66ed1e",
   "outputs": [
    {
     "data": {
      "text/plain": [
       "array([3, 3, 3, 3])"
      ]
     },
     "execution_count": 45,
     "metadata": {},
     "output_type": "execute_result"
    }
   ],
   "execution_count": 45
  },
  {
   "metadata": {
    "ExecuteTime": {
     "end_time": "2025-09-16T04:51:23.259506Z",
     "start_time": "2025-09-16T04:51:23.257249Z"
    }
   },
   "cell_type": "code",
   "source": "np.diag(v, 0)",
   "id": "4f6724431fd6e80d",
   "outputs": [
    {
     "data": {
      "text/plain": [
       "array([[0.2, 0. , 0. , 0. , 0. ],\n",
       "       [0. , 0.8, 0. , 0. , 0. ],\n",
       "       [0. , 0. , 0.4, 0. , 0. ],\n",
       "       [0. , 0. , 0. , 0.9, 0. ],\n",
       "       [0. , 0. , 0. , 0. , 0.7]])"
      ]
     },
     "execution_count": 46,
     "metadata": {},
     "output_type": "execute_result"
    }
   ],
   "execution_count": 46
  },
  {
   "metadata": {
    "ExecuteTime": {
     "end_time": "2025-09-16T04:51:23.388870Z",
     "start_time": "2025-09-16T04:51:23.386235Z"
    }
   },
   "cell_type": "code",
   "source": [
    "from numpy.random import default_rng\n",
    "rng = default_rng(42)\n",
    "rng.random((3, 4))"
   ],
   "id": "71cf915bbf90c12e",
   "outputs": [
    {
     "data": {
      "text/plain": [
       "array([[0.77395605, 0.43887844, 0.85859792, 0.69736803],\n",
       "       [0.09417735, 0.97562235, 0.7611397 , 0.78606431],\n",
       "       [0.12811363, 0.45038594, 0.37079802, 0.92676499]])"
      ]
     },
     "execution_count": 47,
     "metadata": {},
     "output_type": "execute_result"
    }
   ],
   "execution_count": 47
  },
  {
   "metadata": {
    "ExecuteTime": {
     "end_time": "2025-09-16T04:51:23.475621Z",
     "start_time": "2025-09-16T04:51:23.472488Z"
    }
   },
   "cell_type": "code",
   "source": "np.linspace(1,3,4)",
   "id": "91853830b9acb8d1",
   "outputs": [
    {
     "data": {
      "text/plain": [
       "array([1.        , 1.66666667, 2.33333333, 3.        ])"
      ]
     },
     "execution_count": 48,
     "metadata": {},
     "output_type": "execute_result"
    }
   ],
   "execution_count": 48
  },
  {
   "metadata": {
    "ExecuteTime": {
     "end_time": "2025-09-16T04:51:23.580480Z",
     "start_time": "2025-09-16T04:51:23.577337Z"
    }
   },
   "cell_type": "code",
   "source": "np.mgrid[0:9.,0:6.]",
   "id": "9ea8179ee297fe22",
   "outputs": [
    {
     "data": {
      "text/plain": [
       "array([[[0., 0., 0., 0., 0., 0.],\n",
       "        [1., 1., 1., 1., 1., 1.],\n",
       "        [2., 2., 2., 2., 2., 2.],\n",
       "        [3., 3., 3., 3., 3., 3.],\n",
       "        [4., 4., 4., 4., 4., 4.],\n",
       "        [5., 5., 5., 5., 5., 5.],\n",
       "        [6., 6., 6., 6., 6., 6.],\n",
       "        [7., 7., 7., 7., 7., 7.],\n",
       "        [8., 8., 8., 8., 8., 8.]],\n",
       "\n",
       "       [[0., 1., 2., 3., 4., 5.],\n",
       "        [0., 1., 2., 3., 4., 5.],\n",
       "        [0., 1., 2., 3., 4., 5.],\n",
       "        [0., 1., 2., 3., 4., 5.],\n",
       "        [0., 1., 2., 3., 4., 5.],\n",
       "        [0., 1., 2., 3., 4., 5.],\n",
       "        [0., 1., 2., 3., 4., 5.],\n",
       "        [0., 1., 2., 3., 4., 5.],\n",
       "        [0., 1., 2., 3., 4., 5.]]])"
      ]
     },
     "execution_count": 49,
     "metadata": {},
     "output_type": "execute_result"
    }
   ],
   "execution_count": 49
  },
  {
   "metadata": {
    "ExecuteTime": {
     "end_time": "2025-09-16T04:51:23.673062Z",
     "start_time": "2025-09-16T04:51:23.671156Z"
    }
   },
   "cell_type": "code",
   "source": "X, Y = np.ogrid[0:9., 0:6.]",
   "id": "dd7a3bf5d068b6c7",
   "outputs": [],
   "execution_count": 50
  },
  {
   "metadata": {
    "ExecuteTime": {
     "end_time": "2025-09-16T04:51:23.718444Z",
     "start_time": "2025-09-16T04:51:23.715620Z"
    }
   },
   "cell_type": "code",
   "source": "np.meshgrid([1,2,4],[2,4,5])",
   "id": "f4c0280513379bc9",
   "outputs": [
    {
     "data": {
      "text/plain": [
       "(array([[1, 2, 4],\n",
       "        [1, 2, 4],\n",
       "        [1, 2, 4]]),\n",
       " array([[2, 2, 2],\n",
       "        [4, 4, 4],\n",
       "        [5, 5, 5]]))"
      ]
     },
     "execution_count": 51,
     "metadata": {},
     "output_type": "execute_result"
    }
   ],
   "execution_count": 51
  },
  {
   "metadata": {
    "ExecuteTime": {
     "end_time": "2025-09-16T04:51:23.800726Z",
     "start_time": "2025-09-16T04:51:23.797486Z"
    }
   },
   "cell_type": "code",
   "source": "np.ix_([1,2,4],[2,4,5])",
   "id": "b7ddb79b7b032930",
   "outputs": [
    {
     "data": {
      "text/plain": [
       "(array([[1],\n",
       "        [2],\n",
       "        [4]]),\n",
       " array([[2, 4, 5]]))"
      ]
     },
     "execution_count": 52,
     "metadata": {},
     "output_type": "execute_result"
    }
   ],
   "execution_count": 52
  },
  {
   "metadata": {
    "ExecuteTime": {
     "end_time": "2025-09-16T04:51:23.850117Z",
     "start_time": "2025-09-16T04:51:23.847429Z"
    }
   },
   "cell_type": "code",
   "source": "np.tile(a, (2, 3))",
   "id": "373fc1b42ac3254d",
   "outputs": [
    {
     "data": {
      "text/plain": [
       "array([[3, 3, 3, 3, 3, 3, 3, 3, 3, 3, 3, 3, 3, 3, 3],\n",
       "       [3, 3, 3, 3, 3, 3, 3, 3, 3, 3, 3, 3, 3, 3, 3],\n",
       "       [3, 3, 3, 3, 3, 3, 3, 3, 3, 3, 3, 3, 3, 3, 3],\n",
       "       [3, 3, 3, 3, 3, 3, 3, 3, 3, 3, 3, 3, 3, 3, 3],\n",
       "       [3, 3, 3, 3, 3, 3, 3, 3, 3, 3, 3, 3, 3, 3, 3],\n",
       "       [3, 3, 3, 3, 3, 3, 3, 3, 3, 3, 3, 3, 3, 3, 3],\n",
       "       [3, 3, 3, 3, 3, 3, 3, 3, 3, 3, 3, 3, 3, 3, 3],\n",
       "       [3, 3, 3, 3, 3, 3, 3, 3, 3, 3, 3, 3, 3, 3, 3]])"
      ]
     },
     "execution_count": 53,
     "metadata": {},
     "output_type": "execute_result"
    }
   ],
   "execution_count": 53
  },
  {
   "metadata": {
    "ExecuteTime": {
     "end_time": "2025-09-16T04:51:23.901395Z",
     "start_time": "2025-09-16T04:51:23.898514Z"
    }
   },
   "cell_type": "code",
   "source": "np.concatenate((c,d),1)",
   "id": "3c190c7ec48ad09f",
   "outputs": [
    {
     "data": {
      "text/plain": [
       "array([[31, 32, 33, 41, 42, 43],\n",
       "       [34, 35, 36, 44, 45, 46]])"
      ]
     },
     "execution_count": 54,
     "metadata": {},
     "output_type": "execute_result"
    }
   ],
   "execution_count": 54
  },
  {
   "metadata": {
    "ExecuteTime": {
     "end_time": "2025-09-16T04:51:24.001063Z",
     "start_time": "2025-09-16T04:51:23.998736Z"
    }
   },
   "cell_type": "code",
   "source": "np.concatenate((c,d))",
   "id": "9051d3d4efb27c8d",
   "outputs": [
    {
     "data": {
      "text/plain": [
       "array([[31, 32, 33],\n",
       "       [34, 35, 36],\n",
       "       [41, 42, 43],\n",
       "       [44, 45, 46]])"
      ]
     },
     "execution_count": 55,
     "metadata": {},
     "output_type": "execute_result"
    }
   ],
   "execution_count": 55
  },
  {
   "metadata": {
    "ExecuteTime": {
     "end_time": "2025-09-16T04:51:24.109608Z",
     "start_time": "2025-09-16T04:51:24.107454Z"
    }
   },
   "cell_type": "code",
   "source": "a.max()",
   "id": "ee4e11740e032bc9",
   "outputs": [
    {
     "data": {
      "text/plain": [
       "np.int64(3)"
      ]
     },
     "execution_count": 56,
     "metadata": {},
     "output_type": "execute_result"
    }
   ],
   "execution_count": 56
  },
  {
   "metadata": {
    "ExecuteTime": {
     "end_time": "2025-09-16T04:51:24.200314Z",
     "start_time": "2025-09-16T04:51:24.197794Z"
    }
   },
   "cell_type": "code",
   "source": "a.max(0)",
   "id": "c6dacb465788e83f",
   "outputs": [
    {
     "data": {
      "text/plain": [
       "array([3, 3, 3, 3, 3])"
      ]
     },
     "execution_count": 57,
     "metadata": {},
     "output_type": "execute_result"
    }
   ],
   "execution_count": 57
  },
  {
   "metadata": {
    "ExecuteTime": {
     "end_time": "2025-09-16T04:51:24.305113Z",
     "start_time": "2025-09-16T04:51:24.302880Z"
    }
   },
   "cell_type": "code",
   "source": "a.max(1)",
   "id": "8e76096844f9a47a",
   "outputs": [
    {
     "data": {
      "text/plain": [
       "array([3, 3, 3, 3])"
      ]
     },
     "execution_count": 58,
     "metadata": {},
     "output_type": "execute_result"
    }
   ],
   "execution_count": 58
  },
  {
   "metadata": {
    "ExecuteTime": {
     "end_time": "2025-09-16T04:51:24.358794Z",
     "start_time": "2025-09-16T04:51:24.356314Z"
    }
   },
   "cell_type": "code",
   "source": "np.maximum(c, d)",
   "id": "d30c78d2cf0e419e",
   "outputs": [
    {
     "data": {
      "text/plain": [
       "array([[41, 42, 43],\n",
       "       [44, 45, 46]])"
      ]
     },
     "execution_count": 59,
     "metadata": {},
     "output_type": "execute_result"
    }
   ],
   "execution_count": 59
  },
  {
   "metadata": {
    "ExecuteTime": {
     "end_time": "2025-09-16T04:51:24.421310Z",
     "start_time": "2025-09-16T04:51:24.419227Z"
    }
   },
   "cell_type": "code",
   "source": "np.sqrt(v @ v)",
   "id": "23ccb7b8c07a829d",
   "outputs": [
    {
     "data": {
      "text/plain": [
       "np.float64(1.4628738838327795)"
      ]
     },
     "execution_count": 60,
     "metadata": {},
     "output_type": "execute_result"
    }
   ],
   "execution_count": 60
  },
  {
   "metadata": {
    "ExecuteTime": {
     "end_time": "2025-09-16T04:51:24.503353Z",
     "start_time": "2025-09-16T04:51:24.500876Z"
    }
   },
   "cell_type": "code",
   "source": "np.logical_and(c,d)",
   "id": "b3fa1aaa8c9f17ef",
   "outputs": [
    {
     "data": {
      "text/plain": [
       "array([[ True,  True,  True],\n",
       "       [ True,  True,  True]])"
      ]
     },
     "execution_count": 61,
     "metadata": {},
     "output_type": "execute_result"
    }
   ],
   "execution_count": 61
  },
  {
   "metadata": {
    "ExecuteTime": {
     "end_time": "2025-09-16T04:51:24.576643Z",
     "start_time": "2025-09-16T04:51:24.574589Z"
    }
   },
   "cell_type": "code",
   "source": "np.logical_or(c, d)",
   "id": "91db68cfc6dad9b3",
   "outputs": [
    {
     "data": {
      "text/plain": [
       "array([[ True,  True,  True],\n",
       "       [ True,  True,  True]])"
      ]
     },
     "execution_count": 62,
     "metadata": {},
     "output_type": "execute_result"
    }
   ],
   "execution_count": 62
  },
  {
   "metadata": {
    "ExecuteTime": {
     "end_time": "2025-09-16T04:51:24.675603Z",
     "start_time": "2025-09-16T04:51:24.673348Z"
    }
   },
   "cell_type": "code",
   "source": "c & d",
   "id": "efff9c58d5237f5b",
   "outputs": [
    {
     "data": {
      "text/plain": [
       "array([[ 9, 32, 33],\n",
       "       [32, 33, 36]])"
      ]
     },
     "execution_count": 63,
     "metadata": {},
     "output_type": "execute_result"
    }
   ],
   "execution_count": 63
  },
  {
   "metadata": {
    "ExecuteTime": {
     "end_time": "2025-09-16T04:51:24.758420Z",
     "start_time": "2025-09-16T04:51:24.756361Z"
    }
   },
   "cell_type": "code",
   "source": "c | d",
   "id": "c93cbe9b9483c52b",
   "outputs": [
    {
     "data": {
      "text/plain": [
       "array([[63, 42, 43],\n",
       "       [46, 47, 46]])"
      ]
     },
     "execution_count": 64,
     "metadata": {},
     "output_type": "execute_result"
    }
   ],
   "execution_count": 64
  },
  {
   "metadata": {
    "ExecuteTime": {
     "end_time": "2025-09-16T04:51:24.885808Z",
     "start_time": "2025-09-16T04:51:24.882582Z"
    }
   },
   "cell_type": "code",
   "source": [
    "k = np.arange(10*10).reshape(10,10)\n",
    "np.linalg.inv(k)"
   ],
   "id": "7f58441bf8bed764",
   "outputs": [
    {
     "data": {
      "text/plain": [
       "array([[-3.25218621e+14,  9.22522384e+13,  3.48403565e+13,\n",
       "         8.62604285e+13,  4.33481493e+13, -4.94044316e+14,\n",
       "        -1.22805060e+13,  1.62500754e+15, -2.62324389e+13,\n",
       "        -1.02393283e+15],\n",
       "       [-1.42044642e+15,  2.47333249e+15,  1.24503968e+15,\n",
       "        -4.28106859e+14, -5.36583785e+14, -3.83120840e+15,\n",
       "         4.54053428e+14,  1.62705777e+15,  2.42197983e+14,\n",
       "         1.74664114e+14],\n",
       "       [ 6.17942014e+15, -6.86158241e+15, -2.77899710e+15,\n",
       "        -4.32715156e+14, -9.51750816e+14,  3.10657462e+16,\n",
       "        -5.90493605e+14, -4.83960710e+16,  3.86540740e+14,\n",
       "         2.23799030e+16],\n",
       "       [-5.25926484e+15,  4.53357483e+15,  1.49751389e+15,\n",
       "         8.25263232e+14,  2.79632156e+15, -3.07778493e+16,\n",
       "         9.56641028e+13,  5.28498557e+16, -1.22630578e+15,\n",
       "        -2.53347733e+16],\n",
       "       [ 6.22719948e+14, -0.00000000e+00, -0.00000000e+00,\n",
       "        -0.00000000e+00, -1.25099990e+15, -0.00000000e+00,\n",
       "         9.16666667e-02, -0.00000000e+00,  6.50519946e+14,\n",
       "        -2.22399982e+13],\n",
       "       [-7.96756104e+14,  6.04476644e+14,  1.99668519e+14,\n",
       "         4.70323068e+14,  1.72682891e+14, -4.10371325e+15,\n",
       "        -9.23287776e+13,  7.04664742e+15, -1.49496239e+14,\n",
       "        -3.35150418e+15],\n",
       "       [ 6.05117755e+14, -5.22554594e+14, -1.28928987e+14,\n",
       "        -1.21024311e+14, -5.75260363e+13,  4.86999632e+15,\n",
       "         1.15510610e+14, -9.60301532e+15,  3.01694370e+13,\n",
       "         4.81225512e+15],\n",
       "       [ 3.42833736e+14, -3.20761609e+14,  0.00000000e+00,\n",
       "        -4.06704989e+14, -1.76140546e+14,  6.59605650e+14,\n",
       "         2.93522787e+13,  0.00000000e+00,  7.50424760e+13,\n",
       "        -2.03226997e+14],\n",
       "       [ 1.62590937e+14,  3.97828467e+12, -2.17871405e+14,\n",
       "         2.11283590e+13, -1.24009573e+14,  2.78859139e+15,\n",
       "         1.64647370e+12, -5.34571084e+15,  5.53495503e+13,\n",
       "         2.65430683e+15],\n",
       "       [-1.10996533e+14, -2.71586973e+12,  1.48735047e+14,\n",
       "        -1.44237719e+13,  8.46580561e+13, -1.77124260e+14,\n",
       "        -1.12400406e+12,  1.96228752e+14, -3.77856742e+13,\n",
       "        -8.54517417e+13]])"
      ]
     },
     "execution_count": 65,
     "metadata": {},
     "output_type": "execute_result"
    }
   ],
   "execution_count": 65
  },
  {
   "metadata": {
    "ExecuteTime": {
     "end_time": "2025-09-16T04:51:25.001231Z",
     "start_time": "2025-09-16T04:51:24.998427Z"
    }
   },
   "cell_type": "code",
   "source": "np.linalg.pinv(k)",
   "id": "8a1c6a6b1030251e",
   "outputs": [
    {
     "data": {
      "text/plain": [
       "array([[-2.07272727e-02, -1.73333333e-02, -1.39393939e-02,\n",
       "        -1.05454545e-02, -7.15151515e-03, -3.75757576e-03,\n",
       "        -3.63636364e-04,  3.03030303e-03,  6.42424242e-03,\n",
       "         9.81818182e-03],\n",
       "       [-1.62424242e-02, -1.35757576e-02, -1.09090909e-02,\n",
       "        -8.24242424e-03, -5.57575758e-03, -2.90909091e-03,\n",
       "        -2.42424242e-04,  2.42424242e-03,  5.09090909e-03,\n",
       "         7.75757576e-03],\n",
       "       [-1.17575758e-02, -9.81818182e-03, -7.87878788e-03,\n",
       "        -5.93939394e-03, -4.00000000e-03, -2.06060606e-03,\n",
       "        -1.21212121e-04,  1.81818182e-03,  3.75757576e-03,\n",
       "         5.69696970e-03],\n",
       "       [-7.27272727e-03, -6.06060606e-03, -4.84848485e-03,\n",
       "        -3.63636364e-03, -2.42424242e-03, -1.21212121e-03,\n",
       "        -8.33074180e-20,  1.21212121e-03,  2.42424242e-03,\n",
       "         3.63636364e-03],\n",
       "       [-2.78787879e-03, -2.30303030e-03, -1.81818182e-03,\n",
       "        -1.33333333e-03, -8.48484848e-04, -3.63636364e-04,\n",
       "         1.21212121e-04,  6.06060606e-04,  1.09090909e-03,\n",
       "         1.57575758e-03],\n",
       "       [ 1.69696970e-03,  1.45454545e-03,  1.21212121e-03,\n",
       "         9.69696970e-04,  7.27272727e-04,  4.84848485e-04,\n",
       "         2.42424242e-04, -3.17453518e-18, -2.42424242e-04,\n",
       "        -4.84848485e-04],\n",
       "       [ 6.18181818e-03,  5.21212121e-03,  4.24242424e-03,\n",
       "         3.27272727e-03,  2.30303030e-03,  1.33333333e-03,\n",
       "         3.63636364e-04, -6.06060606e-04, -1.57575758e-03,\n",
       "        -2.54545455e-03],\n",
       "       [ 1.06666667e-02,  8.96969697e-03,  7.27272727e-03,\n",
       "         5.57575758e-03,  3.87878788e-03,  2.18181818e-03,\n",
       "         4.84848485e-04, -1.21212121e-03, -2.90909091e-03,\n",
       "        -4.60606061e-03],\n",
       "       [ 1.51515152e-02,  1.27272727e-02,  1.03030303e-02,\n",
       "         7.87878788e-03,  5.45454545e-03,  3.03030303e-03,\n",
       "         6.06060606e-04, -1.81818182e-03, -4.24242424e-03,\n",
       "        -6.66666667e-03],\n",
       "       [ 1.96363636e-02,  1.64848485e-02,  1.33333333e-02,\n",
       "         1.01818182e-02,  7.03030303e-03,  3.87878788e-03,\n",
       "         7.27272727e-04, -2.42424242e-03, -5.57575758e-03,\n",
       "        -8.72727273e-03]])"
      ]
     },
     "execution_count": 66,
     "metadata": {},
     "output_type": "execute_result"
    }
   ],
   "execution_count": 66
  },
  {
   "metadata": {
    "ExecuteTime": {
     "end_time": "2025-09-16T04:51:25.143967Z",
     "start_time": "2025-09-16T04:51:25.141552Z"
    }
   },
   "cell_type": "code",
   "source": "np.linalg.matrix_rank(k)",
   "id": "9fc5071438a94308",
   "outputs": [
    {
     "data": {
      "text/plain": [
       "np.int64(2)"
      ]
     },
     "execution_count": 67,
     "metadata": {},
     "output_type": "execute_result"
    }
   ],
   "execution_count": 67
  },
  {
   "metadata": {
    "ExecuteTime": {
     "end_time": "2025-09-16T04:51:25.221269Z",
     "start_time": "2025-09-16T04:51:25.218222Z"
    }
   },
   "cell_type": "code",
   "source": [
    "b=np.arange(10)\n",
    "np.linalg.solve(k, b)"
   ],
   "id": "572319485f8b189d",
   "outputs": [
    {
     "data": {
      "text/plain": [
       "array([ 3.18069064e-05,  1.80266488e-01, -7.60953069e-02,  1.01493359e-02,\n",
       "       -1.38888889e-02, -8.68977442e-04,  1.52741271e-03, -1.06526059e-03,\n",
       "       -1.78395539e-04,  1.21785917e-04])"
      ]
     },
     "execution_count": 68,
     "metadata": {},
     "output_type": "execute_result"
    }
   ],
   "execution_count": 68
  },
  {
   "metadata": {
    "ExecuteTime": {
     "end_time": "2025-09-16T04:51:25.333727Z",
     "start_time": "2025-09-16T04:51:25.330718Z"
    }
   },
   "cell_type": "code",
   "source": [
    "U, S, Vh = np.linalg.svd(k)\n",
    "U"
   ],
   "id": "23d5d21627e3c2bd",
   "outputs": [
    {
     "data": {
      "text/plain": [
       "array([[-0.02550639, -0.58720011,  0.80750433,  0.04903735, -0.00082644,\n",
       "         0.00684065, -0.00129347, -0.0033079 ,  0.0029939 , -0.00291351],\n",
       "       [-0.08065815, -0.49191372, -0.37085123,  0.1553728 , -0.75644486,\n",
       "         0.08850071, -0.05940678,  0.02468651, -0.02942966,  0.06926696],\n",
       "       [-0.13580991, -0.39662734, -0.28100912, -0.06628873,  0.37240949,\n",
       "        -0.64001769, -0.2501997 ,  0.15582119, -0.28020178,  0.16485589],\n",
       "       [-0.19096167, -0.30134095, -0.23113615,  0.01090828,  0.33541507,\n",
       "         0.22444573, -0.01226892, -0.68418067,  0.40426106,  0.1569219 ],\n",
       "       [-0.24611343, -0.20605456, -0.14426488, -0.21587518,  0.13188318,\n",
       "         0.14849898,  0.71499757, -0.01095798, -0.40266142, -0.34151471],\n",
       "       [-0.30126519, -0.11076818, -0.10755296,  0.23229134,  0.16925988,\n",
       "         0.09356838, -0.23916518,  0.36263039,  0.3840867 , -0.67662062],\n",
       "       [-0.35641695, -0.01548179, -0.02163584,  0.01576603,  0.13512345,\n",
       "         0.25124124,  0.23952964,  0.5516418 ,  0.26390698,  0.59941645],\n",
       "       [-0.41156871,  0.0798046 ,  0.06119131, -0.31778107,  0.01240565,\n",
       "         0.46088611, -0.54411234, -0.04200301, -0.45638003,  0.02895008],\n",
       "       [-0.46672047,  0.17509098,  0.14721275, -0.54727253, -0.32699715,\n",
       "        -0.42838648,  0.06321545, -0.12003635,  0.34233769, -0.06553015],\n",
       "       [-0.52187223,  0.27037737,  0.14054179,  0.68384171, -0.07222828,\n",
       "        -0.20557763,  0.08870373, -0.23429398, -0.22891344,  0.06716772]])"
      ]
     },
     "execution_count": 69,
     "metadata": {},
     "output_type": "execute_result"
    }
   ],
   "execution_count": 69
  },
  {
   "metadata": {
    "ExecuteTime": {
     "end_time": "2025-09-16T04:51:25.419830Z",
     "start_time": "2025-09-16T04:51:25.417128Z"
    }
   },
   "cell_type": "code",
   "source": [
    "A = np.array([[4, 2],\n",
    "              [2, 3]])\n",
    "L = np.linalg.cholesky(A)\n",
    "L"
   ],
   "id": "cf6e31d7e0ddb0f1",
   "outputs": [
    {
     "data": {
      "text/plain": [
       "array([[2.        , 0.        ],\n",
       "       [1.        , 1.41421356]])"
      ]
     },
     "execution_count": 70,
     "metadata": {},
     "output_type": "execute_result"
    }
   ],
   "execution_count": 70
  },
  {
   "metadata": {
    "ExecuteTime": {
     "end_time": "2025-09-16T04:51:25.494234Z",
     "start_time": "2025-09-16T04:51:25.491847Z"
    }
   },
   "cell_type": "code",
   "source": "D,V = np.linalg.eig(k)",
   "id": "86cc7f36b921c512",
   "outputs": [],
   "execution_count": 71
  },
  {
   "metadata": {
    "ExecuteTime": {
     "end_time": "2025-09-16T04:51:25.547412Z",
     "start_time": "2025-09-16T04:51:25.545275Z"
    }
   },
   "cell_type": "code",
   "source": [
    "\n",
    "A = np.array([[4, -2],\n",
    "              [1,  1]])\n",
    "w, v = np.linalg.eig(A)"
   ],
   "id": "f74caf100fd7bda2",
   "outputs": [],
   "execution_count": 72
  },
  {
   "metadata": {
    "ExecuteTime": {
     "end_time": "2025-09-16T04:51:25.605821Z",
     "start_time": "2025-09-16T04:51:25.565112Z"
    }
   },
   "cell_type": "code",
   "source": [
    "from scipy.sparse.linalg import eigs\n",
    "A = np.array([[4, 1, 2],\n",
    "              [1, 3, 0],\n",
    "              [2, 0, 5]])\n",
    "\n",
    "D, V = eigs(A, k=1)"
   ],
   "id": "3ab818f9bd9b15f6",
   "outputs": [],
   "execution_count": 73
  },
  {
   "metadata": {
    "ExecuteTime": {
     "end_time": "2025-09-16T04:51:25.632044Z",
     "start_time": "2025-09-16T04:51:25.630211Z"
    }
   },
   "cell_type": "code",
   "source": [
    "A = np.array([[1, 2],\n",
    "              [3, 4],\n",
    "              [5, 6]])\n",
    "\n",
    "Q, R = np.linalg.qr(A)"
   ],
   "id": "af06d2e89844e7a9",
   "outputs": [],
   "execution_count": 74
  },
  {
   "metadata": {
    "ExecuteTime": {
     "end_time": "2025-09-16T04:51:25.647711Z",
     "start_time": "2025-09-16T04:51:25.645547Z"
    }
   },
   "cell_type": "code",
   "source": [
    "from scipy.linalg import lu\n",
    "A = np.array([[4, 3],\n",
    "              [6, 3]])\n",
    "P, L, U = lu(A)"
   ],
   "id": "78692d5cd677136d",
   "outputs": [],
   "execution_count": 75
  },
  {
   "metadata": {
    "ExecuteTime": {
     "end_time": "2025-09-16T04:51:25.675011Z",
     "start_time": "2025-09-16T04:51:25.672765Z"
    }
   },
   "cell_type": "code",
   "source": [
    "from scipy.sparse.linalg import cg\n",
    "A = np.array([[4, 1],\n",
    "              [1, 3]])\n",
    "b = np.array([1, 2])\n",
    "x, info = cg(A, b)"
   ],
   "id": "43f190f437302c8f",
   "outputs": [],
   "execution_count": 76
  },
  {
   "metadata": {
    "ExecuteTime": {
     "end_time": "2025-09-16T04:51:25.694144Z",
     "start_time": "2025-09-16T04:51:25.691023Z"
    }
   },
   "cell_type": "code",
   "source": [
    "a = np.array([1, 2, 3, 4])\n",
    "fa = np.fft.fft(a)\n",
    "fa"
   ],
   "id": "8ed6726e5fcf76a5",
   "outputs": [
    {
     "data": {
      "text/plain": [
       "array([10.+0.j, -2.+2.j, -2.+0.j, -2.-2.j])"
      ]
     },
     "execution_count": 77,
     "metadata": {},
     "output_type": "execute_result"
    }
   ],
   "execution_count": 77
  },
  {
   "metadata": {
    "ExecuteTime": {
     "end_time": "2025-09-16T04:51:25.725425Z",
     "start_time": "2025-09-16T04:51:25.722109Z"
    }
   },
   "cell_type": "code",
   "source": [
    "a = np.array([1, 2, 3, 4])\n",
    "fa = np.fft.fft(a)\n",
    "a_reconstructed = np.fft.ifft(fa)\n",
    "a_reconstructed"
   ],
   "id": "842c7c1b1c211a77",
   "outputs": [
    {
     "data": {
      "text/plain": [
       "array([1.+0.j, 2.+0.j, 3.+0.j, 4.+0.j])"
      ]
     },
     "execution_count": 78,
     "metadata": {},
     "output_type": "execute_result"
    }
   ],
   "execution_count": 78
  },
  {
   "metadata": {
    "ExecuteTime": {
     "end_time": "2025-09-16T04:51:25.768824Z",
     "start_time": "2025-09-16T04:51:25.765763Z"
    }
   },
   "cell_type": "code",
   "source": [
    "a = np.array([[3, 1, 2],\n",
    "              [9, 7, 8]])\n",
    "np.sort(a)"
   ],
   "id": "12ab87d71b77420a",
   "outputs": [
    {
     "data": {
      "text/plain": [
       "array([[1, 2, 3],\n",
       "       [7, 8, 9]])"
      ]
     },
     "execution_count": 79,
     "metadata": {},
     "output_type": "execute_result"
    }
   ],
   "execution_count": 79
  },
  {
   "metadata": {
    "ExecuteTime": {
     "end_time": "2025-09-16T04:51:25.800464Z",
     "start_time": "2025-09-16T04:51:25.798780Z"
    }
   },
   "cell_type": "code",
   "source": "a.sort(axis=0)",
   "id": "f7f9bcf8d33b4ab3",
   "outputs": [],
   "execution_count": 80
  },
  {
   "metadata": {
    "ExecuteTime": {
     "end_time": "2025-09-16T04:51:25.837618Z",
     "start_time": "2025-09-16T04:51:25.835195Z"
    }
   },
   "cell_type": "code",
   "source": "np.sort(a, axis=1)",
   "id": "addcd8aab6db9290",
   "outputs": [
    {
     "data": {
      "text/plain": [
       "array([[1, 2, 3],\n",
       "       [7, 8, 9]])"
      ]
     },
     "execution_count": 81,
     "metadata": {},
     "output_type": "execute_result"
    }
   ],
   "execution_count": 81
  },
  {
   "metadata": {
    "ExecuteTime": {
     "end_time": "2025-09-16T04:51:25.902048Z",
     "start_time": "2025-09-16T04:51:25.899844Z"
    }
   },
   "cell_type": "code",
   "source": "I = np.argsort(a[:, 0]); b = a[I,:]",
   "id": "c3ec8d5d9bd78170",
   "outputs": [],
   "execution_count": 82
  },
  {
   "metadata": {
    "ExecuteTime": {
     "end_time": "2025-09-16T04:51:25.970655Z",
     "start_time": "2025-09-16T04:51:25.968773Z"
    }
   },
   "cell_type": "code",
   "source": "x = np.linalg.lstsq(k, y)",
   "id": "bcd67c0bbc90250e",
   "outputs": [],
   "execution_count": 83
  },
  {
   "metadata": {
    "ExecuteTime": {
     "end_time": "2025-09-16T04:51:26.573573Z",
     "start_time": "2025-09-16T04:51:26.002454Z"
    }
   },
   "cell_type": "code",
   "source": [
    "from scipy import signal\n",
    "x = np.linspace(0, 1, 10, endpoint=False)  \n",
    "q = 2\n",
    "num = int(np.ceil(len(x)/q))\n",
    "y = signal.resample(x, num)"
   ],
   "id": "69e93957b461268d",
   "outputs": [],
   "execution_count": 84
  },
  {
   "metadata": {
    "ExecuteTime": {
     "end_time": "2025-09-16T04:51:26.586369Z",
     "start_time": "2025-09-16T04:51:26.584151Z"
    }
   },
   "cell_type": "code",
   "source": "np.unique(a)",
   "id": "59e7b849dc6ba29d",
   "outputs": [
    {
     "data": {
      "text/plain": [
       "array([1, 2, 3, 7, 8, 9])"
      ]
     },
     "execution_count": 85,
     "metadata": {},
     "output_type": "execute_result"
    }
   ],
   "execution_count": 85
  },
  {
   "metadata": {
    "ExecuteTime": {
     "end_time": "2025-09-16T04:51:26.672825Z",
     "start_time": "2025-09-16T04:51:26.670385Z"
    }
   },
   "cell_type": "code",
   "source": "a.squeeze()",
   "id": "4c80fc312618bb02",
   "outputs": [
    {
     "data": {
      "text/plain": [
       "array([[3, 1, 2],\n",
       "       [9, 7, 8]])"
      ]
     },
     "execution_count": 86,
     "metadata": {},
     "output_type": "execute_result"
    }
   ],
   "execution_count": 86
  },
  {
   "metadata": {},
   "cell_type": "markdown",
   "source": "# Task03: Plotting",
   "id": "7eb42a5ece802c99"
  },
  {
   "metadata": {
    "ExecuteTime": {
     "end_time": "2025-09-16T04:51:29.950241Z",
     "start_time": "2025-09-16T04:51:26.715166Z"
    }
   },
   "cell_type": "code",
   "source": [
    "import matplotlib.pyplot as plt\n",
    "plt.plot([1,2,3,4], [1,2,7,14])\n",
    "plt.axis([0, 6, 0, 20])\n",
    "plt.show()"
   ],
   "id": "df2697d75ba8fea7",
   "outputs": [
    {
     "data": {
      "text/plain": [
       "<Figure size 640x480 with 1 Axes>"
      ],
      "image/png": "[encoded data removed]"
     },
     "metadata": {},
     "output_type": "display_data"
    }
   ],
   "execution_count": 87
  },
  {
   "metadata": {},
   "cell_type": "markdown",
   "source": "# Task04:",
   "id": "6499a720fd6b8715"
  },
  {
   "metadata": {
    "ExecuteTime": {
     "end_time": "2025-09-16T04:56:25.622174Z",
     "start_time": "2025-09-16T04:56:25.570584Z"
    }
   },
   "cell_type": "code",
   "source": [
    "plt.plot([1,2,3,4,10,23,22], [1,2,5,6,7,7,14])\n",
    "plt.show()"
   ],
   "id": "3264e2657c35a82d",
   "outputs": [
    {
     "data": {
      "text/plain": [
       "<Figure size 640x480 with 1 Axes>"
      ],
      "image/png": "[encoded data removed]"
     },
     "metadata": {},
     "output_type": "display_data"
    }
   ],
   "execution_count": 88
  },
  {
   "metadata": {},
   "cell_type": "markdown",
   "source": "# Task 05:",
   "id": "fad2609c000f2b9d"
  },
  {
   "metadata": {},
   "cell_type": "markdown",
   "source": "Github Account name: alwaysstrive2024",
   "id": "1c312d805ff71e1a"
  },
  {
   "metadata": {},
   "cell_type": "code",
   "outputs": [],
   "execution_count": null,
   "source": "",
   "id": "f83a7e0153510d43"
  }
 ],
 "metadata": {
  "kernelspec": {
   "display_name": "Python 3",
   "language": "python",
   "name": "python3"
  },
  "language_info": {
   "codemirror_mode": {
    "name": "ipython",
    "version": 2
   },
   "file_extension": ".py",
   "mimetype": "text/x-python",
   "name": "python",
   "nbconvert_exporter": "python",
   "pygments_lexer": "ipython2",
   "version": "2.7.6"
  }
 },
 "nbformat": 4,
 "nbformat_minor": 5
}
